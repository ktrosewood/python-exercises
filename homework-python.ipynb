{
 "cells": [
  {
   "cell_type": "markdown",
   "id": "e43a093a-b4a7-45c4-afbc-10fbd51e9dcf",
   "metadata": {},
   "source": [
    "### Generate data used to test a model or test own stats analysis "
   ]
  },
  {
   "cell_type": "code",
   "execution_count": 1,
   "id": "8359abb7-b5ef-4db9-a352-2061c73f0208",
   "metadata": {},
   "outputs": [],
   "source": [
    "import random \n",
    "import numpy as np"
   ]
  },
  {
   "cell_type": "code",
   "execution_count": 9,
   "id": "f2edc8b0-13f4-44b9-926e-844e868ffd35",
   "metadata": {},
   "outputs": [
    {
     "name": "stdout",
     "output_type": "stream",
     "text": [
      "[92, 99, 79, 81, 88, 51, 96, 96, 93, 63]\n"
     ]
    }
   ],
   "source": [
    "# create an array of 10 elements with random values between range 50 - 100 values \n",
    "array = []\n",
    "\n",
    "for i in range(0,10):\n",
    "    random_data = random.randint(50, 100)\n",
    "    array.append(random_data) \n",
    "    \n",
    "print(array)\n",
    "    "
   ]
  },
  {
   "cell_type": "code",
   "execution_count": 16,
   "id": "7e2f9002-5f50-4657-8d1c-76544ae767cb",
   "metadata": {},
   "outputs": [
    {
     "name": "stdout",
     "output_type": "stream",
     "text": [
      "[92, 0, 79, 0, 88, 0, 96, 0, 93, 0]\n"
     ]
    }
   ],
   "source": [
    "# replace all the odd elements in the array with 0 \n",
    "\n",
    "for i in range(0,10): \n",
    "    if i % 2 == 1:\n",
    "        array[i] = 0\n",
    "        \n",
    "print(array)\n",
    "\n",
    "\n"
   ]
  },
  {
   "cell_type": "markdown",
   "id": "ba887565-3ccc-48ae-9632-c0e321dcc274",
   "metadata": {},
   "source": [
    "### Homework for 7/10"
   ]
  },
  {
   "cell_type": "markdown",
   "id": "6e1e7187-a32d-4f08-81f1-73cc61ff0788",
   "metadata": {},
   "source": [
    "### 1) Question: Get the positions where elements of a and b match"
   ]
  },
  {
   "cell_type": "code",
   "execution_count": 2,
   "id": "1683072b-7fa6-4a57-9995-cea3a4124b4e",
   "metadata": {},
   "outputs": [],
   "source": [
    "# create two arrays \n",
    "a = np.array([1,2,3,2,3,4,3,4,5,6])\n",
    "b = np.array([7,2,10,2,7,4,9,4,9,8])"
   ]
  },
  {
   "cell_type": "code",
   "execution_count": 20,
   "id": "4cd6a2ab-2ee5-4e9a-8b3e-9b80714333c9",
   "metadata": {},
   "outputs": [
    {
     "data": {
      "text/plain": [
       "array([ 1,  2,  3,  2,  3,  4,  3,  4,  5,  6,  7,  2, 10,  2,  7,  4,  9,\n",
       "        4,  9,  8])"
      ]
     },
     "execution_count": 20,
     "metadata": {},
     "output_type": "execute_result"
    }
   ],
   "source": [
    "# merge two arrays \n",
    "c = np.concatenate((a, b))\n",
    "c"
   ]
  },
  {
   "cell_type": "code",
   "execution_count": 21,
   "id": "213dc521-a423-4992-8479-d1117edb0208",
   "metadata": {},
   "outputs": [
    {
     "name": "stdout",
     "output_type": "stream",
     "text": [
      "[np.int64(2), np.int64(3), np.int64(4), np.int64(7), np.int64(9)]\n"
     ]
    }
   ],
   "source": [
    "# create one empty list for unique values and one for duplicates. \n",
    "uniqueList = []\n",
    "duplicateList = []\n",
    "\n",
    "# use for loop\n",
    "for i in c:\n",
    "    if i not in uniqueList:\n",
    "        uniqueList.append(i)\n",
    "    elif i not in duplicateList:\n",
    "        duplicateList.append(i)\n",
    " \n",
    "print(duplicateList)"
   ]
  },
  {
   "cell_type": "markdown",
   "id": "532948bd-ac23-43f6-aa55-5dde1d902de1",
   "metadata": {},
   "source": [
    "### 2) Question: Get all items between 5 and 10 from a."
   ]
  },
  {
   "cell_type": "code",
   "execution_count": 22,
   "id": "258d97ae-c961-4f3f-af5b-335232ddcb8c",
   "metadata": {},
   "outputs": [],
   "source": [
    "a = np.array([2, 6, 1, 9, 10, 3, 27])"
   ]
  },
  {
   "cell_type": "code",
   "execution_count": 23,
   "id": "473eb0a2-20d1-4e26-8147-da9d196f5430",
   "metadata": {},
   "outputs": [
    {
     "name": "stdout",
     "output_type": "stream",
     "text": [
      "[np.int64(6), np.int64(9), np.int64(10)]\n"
     ]
    }
   ],
   "source": [
    "values = []\n",
    "\n",
    "for i in a:\n",
    "    if i >= 5 and i <= 10:\n",
    "        values.append(i)\n",
    "        \n",
    "print(values)"
   ]
  },
  {
   "cell_type": "markdown",
   "id": "83f7319e-25d7-4074-a099-92bc438215da",
   "metadata": {},
   "source": [
    "### 3) Question: Reverse the columns of a 2D array arr.\n"
   ]
  },
  {
   "cell_type": "code",
   "execution_count": 24,
   "id": "10d59fd5-3801-443d-a590-95d1cea08988",
   "metadata": {},
   "outputs": [],
   "source": [
    "arr = np.arange(9).reshape(3,3)"
   ]
  },
  {
   "cell_type": "code",
   "execution_count": 25,
   "id": "44023789-9f87-43ae-b946-93473bea5e61",
   "metadata": {},
   "outputs": [
    {
     "data": {
      "text/plain": [
       "array([[0, 1, 2],\n",
       "       [3, 4, 5],\n",
       "       [6, 7, 8]])"
      ]
     },
     "execution_count": 25,
     "metadata": {},
     "output_type": "execute_result"
    }
   ],
   "source": [
    "arr"
   ]
  },
  {
   "cell_type": "code",
   "execution_count": 35,
   "id": "8b5e681d-e9b9-4266-a89a-8ab716b54f6d",
   "metadata": {},
   "outputs": [],
   "source": [
    "# create an empty array where to save values\n",
    "arr_2 = []"
   ]
  },
  {
   "cell_type": "code",
   "execution_count": 36,
   "id": "3a72499b-f5e0-4ec3-98eb-0f7227d6604a",
   "metadata": {},
   "outputs": [],
   "source": [
    "# question: why is it range(len(arr)) and not: for i in arr or for i in range(arr)? \n",
    "#what's the difference between the three? "
   ]
  },
  {
   "cell_type": "code",
   "execution_count": 37,
   "id": "314e84a7-2b6c-4248-a03f-b74a60d6bf8d",
   "metadata": {},
   "outputs": [
    {
     "name": "stdout",
     "output_type": "stream",
     "text": [
      "[array([2, 1, 0]), array([5, 4, 3]), array([8, 7, 6])]\n"
     ]
    }
   ],
   "source": [
    "# loop through arr 1 and append to arr_1\n",
    "\n",
    "for i in range(len(arr)):\n",
    "    arr_2.append(arr[i][::-1])\n",
    "\n",
    "print(arr_2)"
   ]
  },
  {
   "cell_type": "code",
   "execution_count": 38,
   "id": "ab88e245-5769-43bc-9770-3d0342fb18a0",
   "metadata": {},
   "outputs": [
    {
     "data": {
      "text/plain": [
       "array([[2, 1, 0],\n",
       "       [5, 4, 3],\n",
       "       [8, 7, 6]])"
      ]
     },
     "execution_count": 38,
     "metadata": {},
     "output_type": "execute_result"
    }
   ],
   "source": [
    "# print it as an array \n",
    "arr_2 = np.array(arr_2)\n",
    "arr_2"
   ]
  },
  {
   "cell_type": "code",
   "execution_count": null,
   "id": "7bc2a54e-ccaf-4e3f-917e-e1d3bcea0d34",
   "metadata": {},
   "outputs": [],
   "source": [
    "# how could I invert the rows of the original array instead? "
   ]
  },
  {
   "cell_type": "markdown",
   "id": "528680e0-61cf-40bc-8149-b1dbe66deb6a",
   "metadata": {},
   "source": [
    "### 4) Question: Create a 2D array of shape 5x3 to contain random decimal numbers between 5 and 10."
   ]
  },
  {
   "cell_type": "code",
   "execution_count": 63,
   "id": "501f98c5-4d88-4c05-b34e-0004ddb165bf",
   "metadata": {},
   "outputs": [
    {
     "data": {
      "text/plain": [
       "array([[7, 9, 5],\n",
       "       [8, 6, 9],\n",
       "       [5, 7, 9],\n",
       "       [6, 8, 8],\n",
       "       [6, 9, 8]], dtype=int32)"
      ]
     },
     "execution_count": 63,
     "metadata": {},
     "output_type": "execute_result"
    }
   ],
   "source": [
    "# use methods random and randint to generate random values + .reshape method to specify \n",
    "# shape of array \n",
    "arr_1 = np.random.randint(5,10, 15).reshape(5,3)\n",
    "arr_1"
   ]
  },
  {
   "cell_type": "markdown",
   "id": "e81df657-937e-4078-8687-78633cdb3ad3",
   "metadata": {},
   "source": [
    "### 5) Question : Consider an array Z = [1,2,3,4,5,6,7,8,9,10,11,12,13,14], how\n",
    "### to generate an array R = [[1,2,3,4], [2,3,4,5], [3,4,5,6], ..., [11,12,13,14]]?\n"
   ]
  },
  {
   "cell_type": "code",
   "execution_count": 68,
   "id": "ff31e117-345a-4285-8575-e2effd0b496a",
   "metadata": {},
   "outputs": [],
   "source": [
    "Z = [1,2,3,4,5,6,7,8,9,10,11,12,13,14]"
   ]
  },
  {
   "cell_type": "code",
   "execution_count": 71,
   "id": "df281999-5296-4da6-b5c6-7e53f5edcf5e",
   "metadata": {},
   "outputs": [
    {
     "name": "stdout",
     "output_type": "stream",
     "text": [
      "[3, 4, 5, 6]\n",
      "[7, 8, 9, 10]\n",
      "[11, 12, 13, 14]\n"
     ]
    }
   ],
   "source": [
    "start = 0\n",
    "end = len(Z)\n",
    "step = 4\n",
    "\n",
    "for i in range(start, end, step):\n",
    "    x = i\n",
    "    print(Z[x:x+step])  \n",
    "    \n",
    "\n",
    "    "
   ]
  },
  {
   "cell_type": "markdown",
   "id": "804c5017-7864-4d56-bf1a-754e815f7fdf",
   "metadata": {},
   "source": [
    "### 6) Question : Find the largest element of the given array.\n"
   ]
  },
  {
   "cell_type": "code",
   "execution_count": 74,
   "id": "5c4a14e9-11c1-479b-b307-d3f78c6d70aa",
   "metadata": {},
   "outputs": [],
   "source": [
    "a = np.array([2, 6, 1, 9, 10, 3, 27, 87, 99, 174 ,2, 5])"
   ]
  },
  {
   "cell_type": "code",
   "execution_count": 85,
   "id": "4ec014ee-ae85-4488-892d-b7842fd2dba4",
   "metadata": {},
   "outputs": [
    {
     "name": "stdout",
     "output_type": "stream",
     "text": [
      "174\n"
     ]
    }
   ],
   "source": [
    "# Initialize a variable with smallest possible value \n",
    "max_value = arr[0] #start with first element \n",
    "\n",
    "# loop through array\n",
    "for num in a:\n",
    "    if num > max_value:\n",
    "        max_value = num\n",
    "\n",
    "print(max_value)"
   ]
  },
  {
   "cell_type": "markdown",
   "id": "d991944a-00f4-4813-a008-8be85165d81a",
   "metadata": {},
   "source": [
    "### 7) Find the number of elements in the range 50 - 100."
   ]
  },
  {
   "cell_type": "code",
   "execution_count": 86,
   "id": "642297fd-0e26-49d1-b386-7df2c2fa2d9d",
   "metadata": {},
   "outputs": [],
   "source": [
    "a = np.array([2, 6, 1, 9, 10, 3, 27, 87, 99, 174 ,2, 5])"
   ]
  },
  {
   "cell_type": "code",
   "execution_count": 87,
   "id": "8e48f71d-60b7-4264-9bba-681e5eade4c7",
   "metadata": {},
   "outputs": [
    {
     "name": "stdout",
     "output_type": "stream",
     "text": [
      "[np.int64(87), np.int64(99)]\n"
     ]
    }
   ],
   "source": [
    "values = []\n",
    "\n",
    "for num in a:\n",
    "    if num >= 50 and num <= 100:\n",
    "        values.append(num)\n",
    "\n",
    "print(values)"
   ]
  },
  {
   "cell_type": "markdown",
   "id": "b3030c24-a602-4dc3-8442-94f4f2959723",
   "metadata": {},
   "source": [
    "### 8) Question : Create a 8x8 matrix and fill it with a checkerboard pattern of 0 and 1’s."
   ]
  },
  {
   "cell_type": "code",
   "execution_count": 90,
   "id": "0e8df3f3-72a6-45f9-9d2f-4342b28f1869",
   "metadata": {},
   "outputs": [
    {
     "data": {
      "text/plain": [
       "array([[0, 1, 0, 1, 0, 1, 0, 1],\n",
       "       [1, 0, 1, 0, 1, 0, 1, 0],\n",
       "       [0, 1, 0, 1, 0, 1, 0, 1],\n",
       "       [1, 0, 1, 0, 1, 0, 1, 0],\n",
       "       [0, 1, 0, 1, 0, 1, 0, 1],\n",
       "       [1, 0, 1, 0, 1, 0, 1, 0],\n",
       "       [0, 1, 0, 1, 0, 1, 0, 1],\n",
       "       [1, 0, 1, 0, 1, 0, 1, 0]])"
      ]
     },
     "execution_count": 90,
     "metadata": {},
     "output_type": "execute_result"
    }
   ],
   "source": [
    "# I found an example but I didn't understand "
   ]
  },
  {
   "cell_type": "markdown",
   "id": "e560a85f-07ff-4f74-a47e-a22d7983364c",
   "metadata": {},
   "source": [
    "### 9) Question : Create a 2D array containing random floats between 5 and 10?\n"
   ]
  },
  {
   "cell_type": "code",
   "execution_count": 92,
   "id": "9ca7cdbc-4773-4f21-a54e-e5f0d5593a1c",
   "metadata": {},
   "outputs": [
    {
     "data": {
      "text/plain": [
       "array([[6.89380746, 8.25849386],\n",
       "       [7.5380517 , 5.44078605],\n",
       "       [8.5717836 , 5.17793327],\n",
       "       [7.24711025, 8.9368586 ],\n",
       "       [7.04256689, 5.72224236],\n",
       "       [9.6502166 , 8.44751218]])"
      ]
     },
     "execution_count": 92,
     "metadata": {},
     "output_type": "execute_result"
    }
   ],
   "source": [
    "arr_1 = np.random.uniform(5,10, 12).reshape(6,2)\n",
    "arr_1"
   ]
  },
  {
   "cell_type": "markdown",
   "id": "8dc967a8-a658-4ede-8358-d0a2fad9a83f",
   "metadata": {},
   "source": [
    "### 10) Question: remove the duplicates in the given array. "
   ]
  },
  {
   "cell_type": "code",
   "execution_count": 93,
   "id": "813a8e96-f887-4cc8-938d-51ae1dd83876",
   "metadata": {},
   "outputs": [],
   "source": [
    "a = [ 10 , 20 , 30 , 40, 50, 60, 30 , 30 , 20 , 10 , 80 , 0 , 1 , 220 , 110 , 110, 55 ]"
   ]
  },
  {
   "cell_type": "code",
   "execution_count": 95,
   "id": "8861f6d5-c677-4fd5-9ca6-6a02292ce787",
   "metadata": {},
   "outputs": [
    {
     "data": {
      "text/plain": [
       "array([  0,   1,  10,  20,  30,  40,  50,  55,  60,  80, 110, 220])"
      ]
     },
     "execution_count": 95,
     "metadata": {},
     "output_type": "execute_result"
    }
   ],
   "source": [
    "unique_values = np.unique(a)\n",
    "unique_values"
   ]
  }
 ],
 "metadata": {
  "kernelspec": {
   "display_name": "Python 3 (ipykernel)",
   "language": "python",
   "name": "python3"
  },
  "language_info": {
   "codemirror_mode": {
    "name": "ipython",
    "version": 3
   },
   "file_extension": ".py",
   "mimetype": "text/x-python",
   "name": "python",
   "nbconvert_exporter": "python",
   "pygments_lexer": "ipython3",
   "version": "3.12.7"
  }
 },
 "nbformat": 4,
 "nbformat_minor": 5
}
